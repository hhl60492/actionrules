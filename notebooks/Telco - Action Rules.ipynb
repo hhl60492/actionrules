{
 "cells": [
  {
   "cell_type": "markdown",
   "metadata": {},
   "source": [
    "# Telco - Action Rules Discovery\n",
    "It is a business-oriented example. The source dataset called \"Telco Customer Churn\" is from Kaggle („Telco Customer Churn“, 2017). The task for action rules is to find the actions that can limit customer churn."
   ]
  },
  {
   "cell_type": "markdown",
   "metadata": {},
   "source": [
    "## Load data\n",
    "Load data to Pandas dataframe"
   ]
  },
  {
   "cell_type": "code",
   "execution_count": 1,
   "metadata": {},
   "outputs": [],
   "source": [
    "import pandas as pd\n",
    "from actionrules.actionRulesDiscovery import ActionRulesDiscovery"
   ]
  },
  {
   "cell_type": "code",
   "execution_count": 2,
   "metadata": {
    "scrolled": true
   },
   "outputs": [
    {
     "data": {
      "text/html": [
       "<div>\n",
       "<style scoped>\n",
       "    .dataframe tbody tr th:only-of-type {\n",
       "        vertical-align: middle;\n",
       "    }\n",
       "\n",
       "    .dataframe tbody tr th {\n",
       "        vertical-align: top;\n",
       "    }\n",
       "\n",
       "    .dataframe thead th {\n",
       "        text-align: right;\n",
       "    }\n",
       "</style>\n",
       "<table border=\"1\" class=\"dataframe\">\n",
       "  <thead>\n",
       "    <tr style=\"text-align: right;\">\n",
       "      <th></th>\n",
       "      <th>customerID</th>\n",
       "      <th>gender</th>\n",
       "      <th>SeniorCitizen</th>\n",
       "      <th>Partner</th>\n",
       "      <th>Dependents</th>\n",
       "      <th>tenure</th>\n",
       "      <th>PhoneService</th>\n",
       "      <th>MultipleLines</th>\n",
       "      <th>InternetService</th>\n",
       "      <th>OnlineSecurity</th>\n",
       "      <th>OnlineBackup</th>\n",
       "      <th>DeviceProtection</th>\n",
       "      <th>TechSupport</th>\n",
       "      <th>StreamingTV</th>\n",
       "      <th>StreamingMovies</th>\n",
       "      <th>Contract</th>\n",
       "      <th>PaperlessBilling</th>\n",
       "      <th>PaymentMethod</th>\n",
       "      <th>MonthlyCharges</th>\n",
       "      <th>TotalCharges</th>\n",
       "      <th>Churn</th>\n",
       "    </tr>\n",
       "  </thead>\n",
       "  <tbody>\n",
       "    <tr>\n",
       "      <th>0</th>\n",
       "      <td>7590-VHVEG</td>\n",
       "      <td>Female</td>\n",
       "      <td>0</td>\n",
       "      <td>Yes</td>\n",
       "      <td>No</td>\n",
       "      <td>1</td>\n",
       "      <td>No</td>\n",
       "      <td>No phone service</td>\n",
       "      <td>DSL</td>\n",
       "      <td>No</td>\n",
       "      <td>Yes</td>\n",
       "      <td>No</td>\n",
       "      <td>No</td>\n",
       "      <td>No</td>\n",
       "      <td>No</td>\n",
       "      <td>Month-to-month</td>\n",
       "      <td>Yes</td>\n",
       "      <td>Electronic check</td>\n",
       "      <td>29.85</td>\n",
       "      <td>29.85</td>\n",
       "      <td>No</td>\n",
       "    </tr>\n",
       "    <tr>\n",
       "      <th>1</th>\n",
       "      <td>5575-GNVDE</td>\n",
       "      <td>Male</td>\n",
       "      <td>0</td>\n",
       "      <td>No</td>\n",
       "      <td>No</td>\n",
       "      <td>34</td>\n",
       "      <td>Yes</td>\n",
       "      <td>No</td>\n",
       "      <td>DSL</td>\n",
       "      <td>Yes</td>\n",
       "      <td>No</td>\n",
       "      <td>Yes</td>\n",
       "      <td>No</td>\n",
       "      <td>No</td>\n",
       "      <td>No</td>\n",
       "      <td>One year</td>\n",
       "      <td>No</td>\n",
       "      <td>Mailed check</td>\n",
       "      <td>56.95</td>\n",
       "      <td>1889.5</td>\n",
       "      <td>No</td>\n",
       "    </tr>\n",
       "    <tr>\n",
       "      <th>2</th>\n",
       "      <td>3668-QPYBK</td>\n",
       "      <td>Male</td>\n",
       "      <td>0</td>\n",
       "      <td>No</td>\n",
       "      <td>No</td>\n",
       "      <td>2</td>\n",
       "      <td>Yes</td>\n",
       "      <td>No</td>\n",
       "      <td>DSL</td>\n",
       "      <td>Yes</td>\n",
       "      <td>Yes</td>\n",
       "      <td>No</td>\n",
       "      <td>No</td>\n",
       "      <td>No</td>\n",
       "      <td>No</td>\n",
       "      <td>Month-to-month</td>\n",
       "      <td>Yes</td>\n",
       "      <td>Mailed check</td>\n",
       "      <td>53.85</td>\n",
       "      <td>108.15</td>\n",
       "      <td>Yes</td>\n",
       "    </tr>\n",
       "    <tr>\n",
       "      <th>3</th>\n",
       "      <td>7795-CFOCW</td>\n",
       "      <td>Male</td>\n",
       "      <td>0</td>\n",
       "      <td>No</td>\n",
       "      <td>No</td>\n",
       "      <td>45</td>\n",
       "      <td>No</td>\n",
       "      <td>No phone service</td>\n",
       "      <td>DSL</td>\n",
       "      <td>Yes</td>\n",
       "      <td>No</td>\n",
       "      <td>Yes</td>\n",
       "      <td>Yes</td>\n",
       "      <td>No</td>\n",
       "      <td>No</td>\n",
       "      <td>One year</td>\n",
       "      <td>No</td>\n",
       "      <td>Bank transfer (automatic)</td>\n",
       "      <td>42.30</td>\n",
       "      <td>1840.75</td>\n",
       "      <td>No</td>\n",
       "    </tr>\n",
       "    <tr>\n",
       "      <th>4</th>\n",
       "      <td>9237-HQITU</td>\n",
       "      <td>Female</td>\n",
       "      <td>0</td>\n",
       "      <td>No</td>\n",
       "      <td>No</td>\n",
       "      <td>2</td>\n",
       "      <td>Yes</td>\n",
       "      <td>No</td>\n",
       "      <td>Fiber optic</td>\n",
       "      <td>No</td>\n",
       "      <td>No</td>\n",
       "      <td>No</td>\n",
       "      <td>No</td>\n",
       "      <td>No</td>\n",
       "      <td>No</td>\n",
       "      <td>Month-to-month</td>\n",
       "      <td>Yes</td>\n",
       "      <td>Electronic check</td>\n",
       "      <td>70.70</td>\n",
       "      <td>151.65</td>\n",
       "      <td>Yes</td>\n",
       "    </tr>\n",
       "  </tbody>\n",
       "</table>\n",
       "</div>"
      ],
      "text/plain": [
       "   customerID  gender  SeniorCitizen Partner Dependents  tenure PhoneService  \\\n",
       "0  7590-VHVEG  Female              0     Yes         No       1           No   \n",
       "1  5575-GNVDE    Male              0      No         No      34          Yes   \n",
       "2  3668-QPYBK    Male              0      No         No       2          Yes   \n",
       "3  7795-CFOCW    Male              0      No         No      45           No   \n",
       "4  9237-HQITU  Female              0      No         No       2          Yes   \n",
       "\n",
       "      MultipleLines InternetService OnlineSecurity OnlineBackup  \\\n",
       "0  No phone service             DSL             No          Yes   \n",
       "1                No             DSL            Yes           No   \n",
       "2                No             DSL            Yes          Yes   \n",
       "3  No phone service             DSL            Yes           No   \n",
       "4                No     Fiber optic             No           No   \n",
       "\n",
       "  DeviceProtection TechSupport StreamingTV StreamingMovies        Contract  \\\n",
       "0               No          No          No              No  Month-to-month   \n",
       "1              Yes          No          No              No        One year   \n",
       "2               No          No          No              No  Month-to-month   \n",
       "3              Yes         Yes          No              No        One year   \n",
       "4               No          No          No              No  Month-to-month   \n",
       "\n",
       "  PaperlessBilling              PaymentMethod  MonthlyCharges TotalCharges  \\\n",
       "0              Yes           Electronic check           29.85        29.85   \n",
       "1               No               Mailed check           56.95       1889.5   \n",
       "2              Yes               Mailed check           53.85       108.15   \n",
       "3               No  Bank transfer (automatic)           42.30      1840.75   \n",
       "4              Yes           Electronic check           70.70       151.65   \n",
       "\n",
       "  Churn  \n",
       "0    No  \n",
       "1    No  \n",
       "2   Yes  \n",
       "3    No  \n",
       "4   Yes  "
      ]
     },
     "execution_count": 2,
     "metadata": {},
     "output_type": "execute_result"
    }
   ],
   "source": [
    "pd.set_option('display.max_columns', None)\n",
    "dataFrame = pd.read_csv(\"data/telco.csv\", sep=\";\")\n",
    "dataFrame.head()"
   ]
  },
  {
   "cell_type": "markdown",
   "metadata": {},
   "source": [
    "## Instantiate and fit the model object\n",
    "It measures the time needed for fitting the model."
   ]
  },
  {
   "cell_type": "code",
   "execution_count": 3,
   "metadata": {},
   "outputs": [
    {
     "name": "stdout",
     "output_type": "stream",
     "text": [
      "Time: 7.172839879989624s\n"
     ]
    }
   ],
   "source": [
    "import time\n",
    "\n",
    "\n",
    "actionRulesDiscovery = ActionRulesDiscovery()\n",
    "actionRulesDiscovery.load_pandas(dataFrame)\n",
    "\n",
    "start = time.time()\n",
    "actionRulesDiscovery.fit(stable_attributes = [\"gender\", \"SeniorCitizen\", \"Partner\"],\n",
    "            flexible_attributes  = [\"PhoneService\", \n",
    "                                    \"InternetService\", \n",
    "                                    \"OnlineSecurity\", \n",
    "                                    \"DeviceProtection\", \n",
    "                                    \"TechSupport\",\n",
    "                                    \"StreamingTV\",\n",
    "                                   ],\n",
    "            consequent = \"Churn\",\n",
    "            conf=60,\n",
    "            supp=4,\n",
    "            desired_classes = [\"No\"],\n",
    "            is_nan=False,\n",
    "            is_reduction=True,\n",
    "            min_stable_attributes=1,\n",
    "            min_flexible_attributes=1)\n",
    "\n",
    "end = time.time()\n",
    "print(\"Time: \" + str(end - start) + \"s\")"
   ]
  },
  {
   "cell_type": "markdown",
   "metadata": {},
   "source": [
    "### Number of discovered action rules"
   ]
  },
  {
   "cell_type": "code",
   "execution_count": 4,
   "metadata": {},
   "outputs": [
    {
     "data": {
      "text/plain": [
       "16"
      ]
     },
     "execution_count": 4,
     "metadata": {},
     "output_type": "execute_result"
    }
   ],
   "source": [
    "len(actionRulesDiscovery.get_action_rules())"
   ]
  },
  {
   "cell_type": "markdown",
   "metadata": {},
   "source": [
    "### Representation of action rules"
   ]
  },
  {
   "cell_type": "code",
   "execution_count": 5,
   "metadata": {},
   "outputs": [
    {
     "name": "stdout",
     "output_type": "stream",
     "text": [
      "r = [(Partner: No) ∧ (InternetService: Fiber optic → No)  ∧ (OnlineSecurity: No → No internet service)  ∧ (DeviceProtection: No → No internet service)  ∧ (TechSupport: No → No internet service) ] ⇒ [Churn: Yes → No] with support: 0.06772682095697856, confidence: 0.5599898610564512 and uplift: 0.05620874238092184.\n",
      " \n",
      "r = [(Partner: No) ∧ (InternetService: Fiber optic → No)  ∧ (OnlineSecurity: No → No internet service)  ∧ (DeviceProtection: No → No internet service)  ∧ (StreamingTV: No → No internet service) ] ⇒ [Churn: Yes → No] with support: 0.0440153343745563, confidence: 0.5367331680635895 and uplift: 0.036205441411027696.\n",
      " \n",
      "r = [(Partner: No) ∧ (InternetService: Fiber optic → No)  ∧ (OnlineSecurity: No → No internet service)  ∧ (DeviceProtection: No → No internet service)  ∧ (TechSupport: No → No internet service)  ∧ (StreamingTV: No → No internet service) ] ⇒ [Churn: Yes → No] with support: 0.04174357518103081, confidence: 0.5518065094057928 and uplift: 0.03453910027669047.\n",
      " \n",
      "r = [(Partner: No) ∧ (InternetService: Fiber optic → No)  ∧ (OnlineSecurity: No → No internet service)  ∧ (TechSupport: No → No internet service)  ∧ (StreamingTV: Yes → No internet service) ] ⇒ [Churn: Yes → No] with support: 0.0400397557858867, confidence: 0.5383313809709749 and uplift: 0.03295636449338401.\n",
      " \n",
      "r = [(Partner: No) ∧ (InternetService: No → Fiber optic)  ∧ (OnlineSecurity: No internet service → No)  ∧ (DeviceProtection: No internet service → No)  ∧ (TechSupport: No internet service → No) ] ⇒ [Churn: No → Yes] with support: 0.06772682095697856, confidence: 0.5599898610564512 and uplift: 0.058203007879325114.\n",
      " \n",
      "r = [(Partner: No) ∧ (InternetService: No → Fiber optic)  ∧ (OnlineSecurity: No internet service → No)  ∧ (DeviceProtection: No internet service → No)  ∧ (StreamingTV: No internet service → No) ] ⇒ [Churn: No → Yes] with support: 0.0440153343745563, confidence: 0.5367331680635895 and uplift: 0.05529048029436011.\n",
      " \n",
      "r = [(Partner: No) ∧ (InternetService: No → Fiber optic)  ∧ (OnlineSecurity: No internet service → No)  ∧ (TechSupport: No internet service → No)  ∧ (StreamingTV: No internet service → Yes) ] ⇒ [Churn: No → Yes] with support: 0.0400397557858867, confidence: 0.5383313809709749 and uplift: 0.05549063081364658.\n",
      " \n",
      "r = [(Partner: No) ∧ (InternetService: No → Fiber optic)  ∧ (OnlineSecurity: No internet service → No)  ∧ (DeviceProtection: No internet service → No)  ∧ (TechSupport: No internet service → No)  ∧ (StreamingTV: No internet service → No) ] ⇒ [Churn: No → Yes] with support: 0.04174357518103081, confidence: 0.5518065094057928 and uplift: 0.05717817440763044.\n",
      " \n",
      "r = [(SeniorCitizen: 0) ∧ (Partner: No) ∧ (InternetService: Fiber optic → No)  ∧ (OnlineSecurity: No → No internet service)  ∧ (DeviceProtection: No → No internet service)  ∧ (TechSupport: No → No internet service) ] ⇒ [Churn: Yes → No] with support: 0.04756495811443987, confidence: 0.5464168524169862 and uplift: 0.039304895280051814.\n",
      " \n",
      "r = [(SeniorCitizen: 0) ∧ (Partner: No) ∧ (InternetService: No → Fiber optic)  ∧ (OnlineSecurity: No internet service → No)  ∧ (DeviceProtection: No internet service → No)  ∧ (TechSupport: No internet service → No) ] ⇒ [Churn: No → Yes] with support: 0.04756495811443987, confidence: 0.5464168524169862 and uplift: 0.05472561149394076.\n",
      " \n",
      "r = [(gender: Female) ∧ (InternetService: Fiber optic → No)  ∧ (OnlineSecurity: No → No internet service)  ∧ (DeviceProtection: No → No internet service)  ∧ (TechSupport: No → No internet service) ] ⇒ [Churn: Yes → No] with support: 0.05068862700553741, confidence: 0.5713442003307347 and uplift: 0.04453632600352662.\n",
      " \n",
      "r = [(gender: Female) ∧ (InternetService: No → Fiber optic)  ∧ (OnlineSecurity: No internet service → No)  ∧ (DeviceProtection: No internet service → No)  ∧ (TechSupport: No internet service → No) ] ⇒ [Churn: No → Yes] with support: 0.05068862700553741, confidence: 0.5713442003307347 and uplift: 0.05755819294919444.\n",
      " \n",
      "r = [(gender: Female) ∧ (Partner: No) ∧ (InternetService: Fiber optic → No)  ∧ (OnlineSecurity: No → No internet service)  ∧ (TechSupport: No → No internet service) ] ⇒ [Churn: Yes → No] with support: 0.043873349424960954, confidence: 0.5484247006931318 and uplift: 0.03981257986653415.\n",
      " \n",
      "r = [(gender: Female) ∧ (Partner: No) ∧ (InternetService: Fiber optic → No)  ∧ (DeviceProtection: No → No internet service)  ∧ (TechSupport: No → No internet service) ] ⇒ [Churn: Yes → No] with support: 0.04060769558426807, confidence: 0.5592937155876211 and uplift: 0.0338220496453463.\n",
      " \n",
      "r = [(gender: Female) ∧ (Partner: No) ∧ (InternetService: No → Fiber optic)  ∧ (DeviceProtection: No internet service → No)  ∧ (TechSupport: No internet service → No) ] ⇒ [Churn: No → Yes] with support: 0.04060769558426807, confidence: 0.5592937155876211 and uplift: 0.025477308138961725.\n",
      " \n",
      "r = [(gender: Female) ∧ (Partner: No) ∧ (InternetService: No → Fiber optic)  ∧ (OnlineSecurity: No internet service → No)  ∧ (TechSupport: No internet service → No) ] ⇒ [Churn: No → Yes] with support: 0.043873349424960954, confidence: 0.5484247006931318 and uplift: 0.024882862416583846.\n",
      " \n"
     ]
    }
   ],
   "source": [
    "for rule in actionRulesDiscovery.get_action_rules_representation():\n",
    "    print(rule)\n",
    "    print(\" \")"
   ]
  },
  {
   "cell_type": "markdown",
   "metadata": {},
   "source": [
    "### Human language representation"
   ]
  },
  {
   "cell_type": "code",
   "execution_count": 6,
   "metadata": {},
   "outputs": [
    {
     "name": "stdout",
     "output_type": "stream",
     "text": [
      "If attribute 'Partner' is 'No', attribute 'InternetService' value 'Fiber optic' is changed to 'No', attribute 'OnlineSecurity' value 'No' is changed to 'No internet service', attribute 'DeviceProtection' value 'No' is changed to 'No internet service', attribute 'TechSupport' value 'No' is changed to 'No internet service', then 'Churn' value 'Yes' is changed to 'No' with support: 0.06772682095697856, confidence: 0.5599898610564512 and uplift: 0.05620874238092184.\n",
      " \n",
      "If attribute 'Partner' is 'No', attribute 'InternetService' value 'Fiber optic' is changed to 'No', attribute 'OnlineSecurity' value 'No' is changed to 'No internet service', attribute 'DeviceProtection' value 'No' is changed to 'No internet service', attribute 'StreamingTV' value 'No' is changed to 'No internet service', then 'Churn' value 'Yes' is changed to 'No' with support: 0.0440153343745563, confidence: 0.5367331680635895 and uplift: 0.036205441411027696.\n",
      " \n",
      "If attribute 'Partner' is 'No', attribute 'InternetService' value 'Fiber optic' is changed to 'No', attribute 'OnlineSecurity' value 'No' is changed to 'No internet service', attribute 'DeviceProtection' value 'No' is changed to 'No internet service', attribute 'TechSupport' value 'No' is changed to 'No internet service', attribute 'StreamingTV' value 'No' is changed to 'No internet service', then 'Churn' value 'Yes' is changed to 'No' with support: 0.04174357518103081, confidence: 0.5518065094057928 and uplift: 0.03453910027669047.\n",
      " \n",
      "If attribute 'Partner' is 'No', attribute 'InternetService' value 'Fiber optic' is changed to 'No', attribute 'OnlineSecurity' value 'No' is changed to 'No internet service', attribute 'TechSupport' value 'No' is changed to 'No internet service', attribute 'StreamingTV' value 'Yes' is changed to 'No internet service', then 'Churn' value 'Yes' is changed to 'No' with support: 0.0400397557858867, confidence: 0.5383313809709749 and uplift: 0.03295636449338401.\n",
      " \n",
      "If attribute 'Partner' is 'No', attribute 'InternetService' value 'No' is changed to 'Fiber optic', attribute 'OnlineSecurity' value 'No internet service' is changed to 'No', attribute 'DeviceProtection' value 'No internet service' is changed to 'No', attribute 'TechSupport' value 'No internet service' is changed to 'No', then 'Churn' value 'No' is changed to 'Yes' with support: 0.06772682095697856, confidence: 0.5599898610564512 and uplift: 0.058203007879325114.\n",
      " \n",
      "If attribute 'Partner' is 'No', attribute 'InternetService' value 'No' is changed to 'Fiber optic', attribute 'OnlineSecurity' value 'No internet service' is changed to 'No', attribute 'DeviceProtection' value 'No internet service' is changed to 'No', attribute 'StreamingTV' value 'No internet service' is changed to 'No', then 'Churn' value 'No' is changed to 'Yes' with support: 0.0440153343745563, confidence: 0.5367331680635895 and uplift: 0.05529048029436011.\n",
      " \n",
      "If attribute 'Partner' is 'No', attribute 'InternetService' value 'No' is changed to 'Fiber optic', attribute 'OnlineSecurity' value 'No internet service' is changed to 'No', attribute 'TechSupport' value 'No internet service' is changed to 'No', attribute 'StreamingTV' value 'No internet service' is changed to 'Yes', then 'Churn' value 'No' is changed to 'Yes' with support: 0.0400397557858867, confidence: 0.5383313809709749 and uplift: 0.05549063081364658.\n",
      " \n",
      "If attribute 'Partner' is 'No', attribute 'InternetService' value 'No' is changed to 'Fiber optic', attribute 'OnlineSecurity' value 'No internet service' is changed to 'No', attribute 'DeviceProtection' value 'No internet service' is changed to 'No', attribute 'TechSupport' value 'No internet service' is changed to 'No', attribute 'StreamingTV' value 'No internet service' is changed to 'No', then 'Churn' value 'No' is changed to 'Yes' with support: 0.04174357518103081, confidence: 0.5518065094057928 and uplift: 0.05717817440763044.\n",
      " \n",
      "If attribute 'SeniorCitizen' is '0', attribute 'Partner' is 'No', attribute 'InternetService' value 'Fiber optic' is changed to 'No', attribute 'OnlineSecurity' value 'No' is changed to 'No internet service', attribute 'DeviceProtection' value 'No' is changed to 'No internet service', attribute 'TechSupport' value 'No' is changed to 'No internet service', then 'Churn' value 'Yes' is changed to 'No' with support: 0.04756495811443987, confidence: 0.5464168524169862 and uplift: 0.039304895280051814.\n",
      " \n",
      "If attribute 'SeniorCitizen' is '0', attribute 'Partner' is 'No', attribute 'InternetService' value 'No' is changed to 'Fiber optic', attribute 'OnlineSecurity' value 'No internet service' is changed to 'No', attribute 'DeviceProtection' value 'No internet service' is changed to 'No', attribute 'TechSupport' value 'No internet service' is changed to 'No', then 'Churn' value 'No' is changed to 'Yes' with support: 0.04756495811443987, confidence: 0.5464168524169862 and uplift: 0.05472561149394076.\n",
      " \n",
      "If attribute 'gender' is 'Female', attribute 'InternetService' value 'Fiber optic' is changed to 'No', attribute 'OnlineSecurity' value 'No' is changed to 'No internet service', attribute 'DeviceProtection' value 'No' is changed to 'No internet service', attribute 'TechSupport' value 'No' is changed to 'No internet service', then 'Churn' value 'Yes' is changed to 'No' with support: 0.05068862700553741, confidence: 0.5713442003307347 and uplift: 0.04453632600352662.\n",
      " \n",
      "If attribute 'gender' is 'Female', attribute 'InternetService' value 'No' is changed to 'Fiber optic', attribute 'OnlineSecurity' value 'No internet service' is changed to 'No', attribute 'DeviceProtection' value 'No internet service' is changed to 'No', attribute 'TechSupport' value 'No internet service' is changed to 'No', then 'Churn' value 'No' is changed to 'Yes' with support: 0.05068862700553741, confidence: 0.5713442003307347 and uplift: 0.05755819294919444.\n",
      " \n",
      "If attribute 'gender' is 'Female', attribute 'Partner' is 'No', attribute 'InternetService' value 'Fiber optic' is changed to 'No', attribute 'OnlineSecurity' value 'No' is changed to 'No internet service', attribute 'TechSupport' value 'No' is changed to 'No internet service', then 'Churn' value 'Yes' is changed to 'No' with support: 0.043873349424960954, confidence: 0.5484247006931318 and uplift: 0.03981257986653415.\n",
      " \n",
      "If attribute 'gender' is 'Female', attribute 'Partner' is 'No', attribute 'InternetService' value 'Fiber optic' is changed to 'No', attribute 'DeviceProtection' value 'No' is changed to 'No internet service', attribute 'TechSupport' value 'No' is changed to 'No internet service', then 'Churn' value 'Yes' is changed to 'No' with support: 0.04060769558426807, confidence: 0.5592937155876211 and uplift: 0.0338220496453463.\n",
      " \n",
      "If attribute 'gender' is 'Female', attribute 'Partner' is 'No', attribute 'InternetService' value 'No' is changed to 'Fiber optic', attribute 'DeviceProtection' value 'No internet service' is changed to 'No', attribute 'TechSupport' value 'No internet service' is changed to 'No', then 'Churn' value 'No' is changed to 'Yes' with support: 0.04060769558426807, confidence: 0.5592937155876211 and uplift: 0.025477308138961725.\n",
      " \n",
      "If attribute 'gender' is 'Female', attribute 'Partner' is 'No', attribute 'InternetService' value 'No' is changed to 'Fiber optic', attribute 'OnlineSecurity' value 'No internet service' is changed to 'No', attribute 'TechSupport' value 'No internet service' is changed to 'No', then 'Churn' value 'No' is changed to 'Yes' with support: 0.043873349424960954, confidence: 0.5484247006931318 and uplift: 0.024882862416583846.\n",
      " \n"
     ]
    }
   ],
   "source": [
    "for rule in actionRulesDiscovery.get_pretty_action_rules():\n",
    "    print(rule)\n",
    "    print(\" \") "
   ]
  },
  {
   "cell_type": "markdown",
   "metadata": {},
   "source": [
    "## Deployment"
   ]
  },
  {
   "cell_type": "markdown",
   "metadata": {},
   "source": [
    "Save the model"
   ]
  },
  {
   "cell_type": "code",
   "execution_count": 7,
   "metadata": {},
   "outputs": [
    {
     "data": {
      "text/plain": [
       "['armodel.joblib']"
      ]
     },
     "execution_count": 7,
     "metadata": {},
     "output_type": "execute_result"
    }
   ],
   "source": [
    "from joblib import dump, load\n",
    "dump(actionRulesDiscovery, 'armodel.joblib') "
   ]
  },
  {
   "cell_type": "markdown",
   "metadata": {},
   "source": [
    "Load the model"
   ]
  },
  {
   "cell_type": "code",
   "execution_count": 8,
   "metadata": {},
   "outputs": [],
   "source": [
    "actionRulesDiscovery = load('armodel.joblib') "
   ]
  },
  {
   "cell_type": "markdown",
   "metadata": {},
   "source": [
    "Test that the loaded model works well."
   ]
  },
  {
   "cell_type": "code",
   "execution_count": 9,
   "metadata": {},
   "outputs": [
    {
     "name": "stdout",
     "output_type": "stream",
     "text": [
      "If attribute 'Partner' is 'No', attribute 'InternetService' value 'Fiber optic' is changed to 'No', attribute 'OnlineSecurity' value 'No' is changed to 'No internet service', attribute 'DeviceProtection' value 'No' is changed to 'No internet service', attribute 'TechSupport' value 'No' is changed to 'No internet service', then 'Churn' value 'Yes' is changed to 'No' with support: 0.06772682095697856, confidence: 0.5599898610564512 and uplift: 0.05620874238092184.\n",
      " \n",
      "If attribute 'Partner' is 'No', attribute 'InternetService' value 'Fiber optic' is changed to 'No', attribute 'OnlineSecurity' value 'No' is changed to 'No internet service', attribute 'DeviceProtection' value 'No' is changed to 'No internet service', attribute 'StreamingTV' value 'No' is changed to 'No internet service', then 'Churn' value 'Yes' is changed to 'No' with support: 0.0440153343745563, confidence: 0.5367331680635895 and uplift: 0.036205441411027696.\n",
      " \n",
      "If attribute 'Partner' is 'No', attribute 'InternetService' value 'Fiber optic' is changed to 'No', attribute 'OnlineSecurity' value 'No' is changed to 'No internet service', attribute 'DeviceProtection' value 'No' is changed to 'No internet service', attribute 'TechSupport' value 'No' is changed to 'No internet service', attribute 'StreamingTV' value 'No' is changed to 'No internet service', then 'Churn' value 'Yes' is changed to 'No' with support: 0.04174357518103081, confidence: 0.5518065094057928 and uplift: 0.03453910027669047.\n",
      " \n",
      "If attribute 'Partner' is 'No', attribute 'InternetService' value 'Fiber optic' is changed to 'No', attribute 'OnlineSecurity' value 'No' is changed to 'No internet service', attribute 'TechSupport' value 'No' is changed to 'No internet service', attribute 'StreamingTV' value 'Yes' is changed to 'No internet service', then 'Churn' value 'Yes' is changed to 'No' with support: 0.0400397557858867, confidence: 0.5383313809709749 and uplift: 0.03295636449338401.\n",
      " \n",
      "If attribute 'Partner' is 'No', attribute 'InternetService' value 'No' is changed to 'Fiber optic', attribute 'OnlineSecurity' value 'No internet service' is changed to 'No', attribute 'DeviceProtection' value 'No internet service' is changed to 'No', attribute 'TechSupport' value 'No internet service' is changed to 'No', then 'Churn' value 'No' is changed to 'Yes' with support: 0.06772682095697856, confidence: 0.5599898610564512 and uplift: 0.058203007879325114.\n",
      " \n",
      "If attribute 'Partner' is 'No', attribute 'InternetService' value 'No' is changed to 'Fiber optic', attribute 'OnlineSecurity' value 'No internet service' is changed to 'No', attribute 'DeviceProtection' value 'No internet service' is changed to 'No', attribute 'StreamingTV' value 'No internet service' is changed to 'No', then 'Churn' value 'No' is changed to 'Yes' with support: 0.0440153343745563, confidence: 0.5367331680635895 and uplift: 0.05529048029436011.\n",
      " \n",
      "If attribute 'Partner' is 'No', attribute 'InternetService' value 'No' is changed to 'Fiber optic', attribute 'OnlineSecurity' value 'No internet service' is changed to 'No', attribute 'TechSupport' value 'No internet service' is changed to 'No', attribute 'StreamingTV' value 'No internet service' is changed to 'Yes', then 'Churn' value 'No' is changed to 'Yes' with support: 0.0400397557858867, confidence: 0.5383313809709749 and uplift: 0.05549063081364658.\n",
      " \n",
      "If attribute 'Partner' is 'No', attribute 'InternetService' value 'No' is changed to 'Fiber optic', attribute 'OnlineSecurity' value 'No internet service' is changed to 'No', attribute 'DeviceProtection' value 'No internet service' is changed to 'No', attribute 'TechSupport' value 'No internet service' is changed to 'No', attribute 'StreamingTV' value 'No internet service' is changed to 'No', then 'Churn' value 'No' is changed to 'Yes' with support: 0.04174357518103081, confidence: 0.5518065094057928 and uplift: 0.05717817440763044.\n",
      " \n",
      "If attribute 'SeniorCitizen' is '0', attribute 'Partner' is 'No', attribute 'InternetService' value 'Fiber optic' is changed to 'No', attribute 'OnlineSecurity' value 'No' is changed to 'No internet service', attribute 'DeviceProtection' value 'No' is changed to 'No internet service', attribute 'TechSupport' value 'No' is changed to 'No internet service', then 'Churn' value 'Yes' is changed to 'No' with support: 0.04756495811443987, confidence: 0.5464168524169862 and uplift: 0.039304895280051814.\n",
      " \n",
      "If attribute 'SeniorCitizen' is '0', attribute 'Partner' is 'No', attribute 'InternetService' value 'No' is changed to 'Fiber optic', attribute 'OnlineSecurity' value 'No internet service' is changed to 'No', attribute 'DeviceProtection' value 'No internet service' is changed to 'No', attribute 'TechSupport' value 'No internet service' is changed to 'No', then 'Churn' value 'No' is changed to 'Yes' with support: 0.04756495811443987, confidence: 0.5464168524169862 and uplift: 0.05472561149394076.\n",
      " \n",
      "If attribute 'gender' is 'Female', attribute 'InternetService' value 'Fiber optic' is changed to 'No', attribute 'OnlineSecurity' value 'No' is changed to 'No internet service', attribute 'DeviceProtection' value 'No' is changed to 'No internet service', attribute 'TechSupport' value 'No' is changed to 'No internet service', then 'Churn' value 'Yes' is changed to 'No' with support: 0.05068862700553741, confidence: 0.5713442003307347 and uplift: 0.04453632600352662.\n",
      " \n",
      "If attribute 'gender' is 'Female', attribute 'InternetService' value 'No' is changed to 'Fiber optic', attribute 'OnlineSecurity' value 'No internet service' is changed to 'No', attribute 'DeviceProtection' value 'No internet service' is changed to 'No', attribute 'TechSupport' value 'No internet service' is changed to 'No', then 'Churn' value 'No' is changed to 'Yes' with support: 0.05068862700553741, confidence: 0.5713442003307347 and uplift: 0.05755819294919444.\n",
      " \n",
      "If attribute 'gender' is 'Female', attribute 'Partner' is 'No', attribute 'InternetService' value 'Fiber optic' is changed to 'No', attribute 'OnlineSecurity' value 'No' is changed to 'No internet service', attribute 'TechSupport' value 'No' is changed to 'No internet service', then 'Churn' value 'Yes' is changed to 'No' with support: 0.043873349424960954, confidence: 0.5484247006931318 and uplift: 0.03981257986653415.\n",
      " \n",
      "If attribute 'gender' is 'Female', attribute 'Partner' is 'No', attribute 'InternetService' value 'Fiber optic' is changed to 'No', attribute 'DeviceProtection' value 'No' is changed to 'No internet service', attribute 'TechSupport' value 'No' is changed to 'No internet service', then 'Churn' value 'Yes' is changed to 'No' with support: 0.04060769558426807, confidence: 0.5592937155876211 and uplift: 0.0338220496453463.\n",
      " \n",
      "If attribute 'gender' is 'Female', attribute 'Partner' is 'No', attribute 'InternetService' value 'No' is changed to 'Fiber optic', attribute 'DeviceProtection' value 'No internet service' is changed to 'No', attribute 'TechSupport' value 'No internet service' is changed to 'No', then 'Churn' value 'No' is changed to 'Yes' with support: 0.04060769558426807, confidence: 0.5592937155876211 and uplift: 0.025477308138961725.\n",
      " \n",
      "If attribute 'gender' is 'Female', attribute 'Partner' is 'No', attribute 'InternetService' value 'No' is changed to 'Fiber optic', attribute 'OnlineSecurity' value 'No internet service' is changed to 'No', attribute 'TechSupport' value 'No internet service' is changed to 'No', then 'Churn' value 'No' is changed to 'Yes' with support: 0.043873349424960954, confidence: 0.5484247006931318 and uplift: 0.024882862416583846.\n",
      " \n"
     ]
    }
   ],
   "source": [
    "for rule in actionRulesDiscovery.get_pretty_action_rules():\n",
    "    print(rule)\n",
    "    print(\" \") "
   ]
  },
  {
   "cell_type": "code",
   "execution_count": null,
   "metadata": {},
   "outputs": [],
   "source": []
  }
 ],
 "metadata": {
  "kernelspec": {
   "display_name": "Python 3",
   "language": "python",
   "name": "python3"
  },
  "language_info": {
   "codemirror_mode": {
    "name": "ipython",
    "version": 3
   },
   "file_extension": ".py",
   "mimetype": "text/x-python",
   "name": "python",
   "nbconvert_exporter": "python",
   "pygments_lexer": "ipython3",
   "version": "3.7.1"
  }
 },
 "nbformat": 4,
 "nbformat_minor": 2
}
